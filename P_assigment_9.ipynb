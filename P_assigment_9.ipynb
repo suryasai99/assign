{
 "cells": [
  {
   "cell_type": "markdown",
   "id": "3a2cec6e",
   "metadata": {},
   "source": [
    "## 1. Write a Python program to check if the given number is a Disarium Number?"
   ]
  },
  {
   "cell_type": "code",
   "execution_count": 1,
   "id": "9fb1376d",
   "metadata": {},
   "outputs": [],
   "source": [
    "def di_check(a):\n",
    "    c = str(a)\n",
    "    su_m = 0\n",
    "    for i in range(len(c)):\n",
    "        su_m = su_m+ (int(c[i])**(i+1))\n",
    "    return 'It is a Disarium number' if su_m==a else 'It is not a Disarium number'"
   ]
  },
  {
   "cell_type": "code",
   "execution_count": 2,
   "id": "68a165bb",
   "metadata": {},
   "outputs": [
    {
     "data": {
      "text/plain": [
       "'It is a Disarium number'"
      ]
     },
     "execution_count": 2,
     "metadata": {},
     "output_type": "execute_result"
    }
   ],
   "source": [
    "di_check(5)"
   ]
  },
  {
   "cell_type": "code",
   "execution_count": 3,
   "id": "bba46522",
   "metadata": {},
   "outputs": [
    {
     "data": {
      "text/plain": [
       "'It is a Disarium number'"
      ]
     },
     "execution_count": 3,
     "metadata": {},
     "output_type": "execute_result"
    }
   ],
   "source": [
    "di_check(89)"
   ]
  },
  {
   "cell_type": "code",
   "execution_count": 4,
   "id": "b45f86a5",
   "metadata": {},
   "outputs": [
    {
     "data": {
      "text/plain": [
       "'It is not a Disarium number'"
      ]
     },
     "execution_count": 4,
     "metadata": {},
     "output_type": "execute_result"
    }
   ],
   "source": [
    "di_check(79)"
   ]
  },
  {
   "cell_type": "code",
   "execution_count": 5,
   "id": "0dfcc18a",
   "metadata": {},
   "outputs": [
    {
     "data": {
      "text/plain": [
       "'It is a Disarium number'"
      ]
     },
     "execution_count": 5,
     "metadata": {},
     "output_type": "execute_result"
    }
   ],
   "source": [
    "di_check(135)"
   ]
  },
  {
   "cell_type": "markdown",
   "id": "75c13a88",
   "metadata": {},
   "source": [
    "## 2. Write a Python program to print all disarium numbers between 1 to 100?"
   ]
  },
  {
   "cell_type": "code",
   "execution_count": 6,
   "id": "109e1b78",
   "metadata": {},
   "outputs": [],
   "source": [
    "def dis_range(start,end):\n",
    "    for i in range(start,end+1):\n",
    "        a = str(i)\n",
    "        su_m = 0\n",
    "        for j in range(len(a)):\n",
    "            su_m = su_m+ (int(a[j])**(j+1))\n",
    "        if su_m==i:\n",
    "            print(i)\n",
    "            "
   ]
  },
  {
   "cell_type": "code",
   "execution_count": 7,
   "id": "92e35edf",
   "metadata": {},
   "outputs": [
    {
     "name": "stdout",
     "output_type": "stream",
     "text": [
      "1\n",
      "2\n",
      "3\n",
      "4\n",
      "5\n",
      "6\n",
      "7\n",
      "8\n",
      "9\n",
      "89\n"
     ]
    }
   ],
   "source": [
    "dis_range(1,100)"
   ]
  },
  {
   "cell_type": "code",
   "execution_count": 8,
   "id": "30f58ffa",
   "metadata": {},
   "outputs": [
    {
     "name": "stdout",
     "output_type": "stream",
     "text": [
      "1\n",
      "2\n",
      "3\n",
      "4\n",
      "5\n",
      "6\n",
      "7\n",
      "8\n",
      "9\n",
      "89\n",
      "135\n",
      "175\n",
      "518\n",
      "598\n"
     ]
    }
   ],
   "source": [
    "dis_range(1,1000)"
   ]
  },
  {
   "cell_type": "markdown",
   "id": "46e02f1d",
   "metadata": {},
   "source": [
    "## 3. Write a Python program to check if the given number is Happy Number?"
   ]
  },
  {
   "cell_type": "code",
   "execution_count": 9,
   "id": "3f0cef0a",
   "metadata": {},
   "outputs": [],
   "source": [
    "def ch_happy(num1):  # to check whether a number is happy number or not\n",
    "    num = num1\n",
    "    sum_1 = 0\n",
    "    while sum_1!=1:\n",
    "        su_m = 0\n",
    "        st_num = str(num)\n",
    "        for i in range(len(st_num)):         # squaring and sum of each digit in a number\n",
    "            su_m = su_m + (int(st_num[i])**2)\n",
    "        st_sum = str(su_m)\n",
    "        s = 0  \n",
    "        \n",
    "        for j in range(len(st_sum)):    # calculating the sum of individual digit\n",
    "            s =s+int(st_sum[j])\n",
    "        sum_1=s\n",
    "        \n",
    "        # veryfying whether their sum is equal to 1 or not\n",
    "        \n",
    "        if sum_1 != 1 and len(str(su_m))>1:\n",
    "            num = su_m\n",
    "            continue\n",
    "        elif sum_1 != 1 and len(str(su_m))==1:\n",
    "            return '{} is not a happy number'.format(num1)\n",
    "            break\n",
    "\n",
    "    else:\n",
    "        return '{} is a happy number'.format(num1)\n",
    "    "
   ]
  },
  {
   "cell_type": "code",
   "execution_count": 10,
   "id": "3d028793",
   "metadata": {},
   "outputs": [
    {
     "data": {
      "text/plain": [
       "'13 is a happy number'"
      ]
     },
     "execution_count": 10,
     "metadata": {},
     "output_type": "execute_result"
    }
   ],
   "source": [
    "ch_happy(13)"
   ]
  },
  {
   "cell_type": "code",
   "execution_count": 11,
   "id": "e1142773",
   "metadata": {},
   "outputs": [
    {
     "data": {
      "text/plain": [
       "'20 is not a happy number'"
      ]
     },
     "execution_count": 11,
     "metadata": {},
     "output_type": "execute_result"
    }
   ],
   "source": [
    "ch_happy(20)"
   ]
  },
  {
   "cell_type": "code",
   "execution_count": 12,
   "id": "b2ebf006",
   "metadata": {},
   "outputs": [
    {
     "data": {
      "text/plain": [
       "'7 is a happy number'"
      ]
     },
     "execution_count": 12,
     "metadata": {},
     "output_type": "execute_result"
    }
   ],
   "source": [
    "ch_happy(7)"
   ]
  },
  {
   "cell_type": "code",
   "execution_count": 13,
   "id": "bd608d31",
   "metadata": {},
   "outputs": [
    {
     "data": {
      "text/plain": [
       "'899 is a happy number'"
      ]
     },
     "execution_count": 13,
     "metadata": {},
     "output_type": "execute_result"
    }
   ],
   "source": [
    "ch_happy(899)"
   ]
  },
  {
   "cell_type": "code",
   "execution_count": 14,
   "id": "407e57df",
   "metadata": {},
   "outputs": [],
   "source": [
    "# list of all happy numbers\n",
    "lis = [1, 7, 10, 13, 19, 23, 28, 31, 32, 44, 49, 68, 70, 79, 82, 86, 91, 94, 97, 100, 103, 109, 129, 130, 133, 139, 167, 176, 188, 190, 192, 193, 203, 208, 219, 226, 230, 236, 239, 262, 263, 280, 291, 293, 301, 302, 310, 313, 319, 320, 326, 329, 331, 338, 356, 362, 365, 367, 368, 376, 379, 383, 386, 391, 392, 397, 404, 409, 440, 446, 464, 469, 478, 487, 490, 496, 536, 556, 563, 565, 566, 608, 617, 622, 623, 632, 635, 637, 638, 644, 649, 653, 655, 656, 665, 671, 673, 680, 683, 694, 700, 709, 716, 736, 739, 748, 761, 763, 784, 790, 793, 802, 806, 818, 820, 833, 836, 847, 860, 863, 874, 881, 888, 899, 901, 904, 907, 910, 912, 913, 921, 923, 931, 932, 937, 940, 946, 964, 970, 973, 989, 998, 1000]"
   ]
  },
  {
   "cell_type": "code",
   "execution_count": 15,
   "id": "5ec33400",
   "metadata": {},
   "outputs": [],
   "source": [
    "dis_happy = list(map(ch_happy,lis))"
   ]
  },
  {
   "cell_type": "code",
   "execution_count": 16,
   "id": "23ba30e8",
   "metadata": {},
   "outputs": [
    {
     "data": {
      "text/plain": [
       "['1 is a happy number',\n",
       " '7 is a happy number',\n",
       " '10 is a happy number',\n",
       " '13 is a happy number',\n",
       " '19 is a happy number',\n",
       " '23 is a happy number',\n",
       " '28 is a happy number',\n",
       " '31 is a happy number',\n",
       " '32 is a happy number',\n",
       " '44 is a happy number',\n",
       " '49 is a happy number',\n",
       " '68 is a happy number',\n",
       " '70 is a happy number',\n",
       " '79 is a happy number',\n",
       " '82 is a happy number',\n",
       " '86 is a happy number',\n",
       " '91 is a happy number',\n",
       " '94 is a happy number',\n",
       " '97 is a happy number',\n",
       " '100 is a happy number',\n",
       " '103 is a happy number',\n",
       " '109 is a happy number',\n",
       " '129 is a happy number',\n",
       " '130 is a happy number',\n",
       " '133 is a happy number',\n",
       " '139 is a happy number',\n",
       " '167 is a happy number',\n",
       " '176 is a happy number',\n",
       " '188 is a happy number',\n",
       " '190 is a happy number',\n",
       " '192 is a happy number',\n",
       " '193 is a happy number',\n",
       " '203 is a happy number',\n",
       " '208 is a happy number',\n",
       " '219 is a happy number',\n",
       " '226 is a happy number',\n",
       " '230 is a happy number',\n",
       " '236 is a happy number',\n",
       " '239 is a happy number',\n",
       " '262 is a happy number',\n",
       " '263 is a happy number',\n",
       " '280 is a happy number',\n",
       " '291 is a happy number',\n",
       " '293 is a happy number',\n",
       " '301 is a happy number',\n",
       " '302 is a happy number',\n",
       " '310 is a happy number',\n",
       " '313 is a happy number',\n",
       " '319 is a happy number',\n",
       " '320 is a happy number',\n",
       " '326 is a happy number',\n",
       " '329 is a happy number',\n",
       " '331 is a happy number',\n",
       " '338 is a happy number',\n",
       " '356 is a happy number',\n",
       " '362 is a happy number',\n",
       " '365 is a happy number',\n",
       " '367 is a happy number',\n",
       " '368 is a happy number',\n",
       " '376 is a happy number',\n",
       " '379 is a happy number',\n",
       " '383 is a happy number',\n",
       " '386 is a happy number',\n",
       " '391 is a happy number',\n",
       " '392 is a happy number',\n",
       " '397 is a happy number',\n",
       " '404 is a happy number',\n",
       " '409 is a happy number',\n",
       " '440 is a happy number',\n",
       " '446 is a happy number',\n",
       " '464 is a happy number',\n",
       " '469 is a happy number',\n",
       " '478 is a happy number',\n",
       " '487 is a happy number',\n",
       " '490 is a happy number',\n",
       " '496 is a happy number',\n",
       " '536 is a happy number',\n",
       " '556 is a happy number',\n",
       " '563 is a happy number',\n",
       " '565 is a happy number',\n",
       " '566 is a happy number',\n",
       " '608 is a happy number',\n",
       " '617 is a happy number',\n",
       " '622 is a happy number',\n",
       " '623 is a happy number',\n",
       " '632 is a happy number',\n",
       " '635 is a happy number',\n",
       " '637 is a happy number',\n",
       " '638 is a happy number',\n",
       " '644 is a happy number',\n",
       " '649 is a happy number',\n",
       " '653 is a happy number',\n",
       " '655 is a happy number',\n",
       " '656 is a happy number',\n",
       " '665 is a happy number',\n",
       " '671 is a happy number',\n",
       " '673 is a happy number',\n",
       " '680 is a happy number',\n",
       " '683 is a happy number',\n",
       " '694 is a happy number',\n",
       " '700 is a happy number',\n",
       " '709 is a happy number',\n",
       " '716 is a happy number',\n",
       " '736 is a happy number',\n",
       " '739 is a happy number',\n",
       " '748 is a happy number',\n",
       " '761 is a happy number',\n",
       " '763 is a happy number',\n",
       " '784 is a happy number',\n",
       " '790 is a happy number',\n",
       " '793 is a happy number',\n",
       " '802 is a happy number',\n",
       " '806 is a happy number',\n",
       " '818 is a happy number',\n",
       " '820 is a happy number',\n",
       " '833 is a happy number',\n",
       " '836 is a happy number',\n",
       " '847 is a happy number',\n",
       " '860 is a happy number',\n",
       " '863 is a happy number',\n",
       " '874 is a happy number',\n",
       " '881 is a happy number',\n",
       " '888 is a happy number',\n",
       " '899 is a happy number',\n",
       " '901 is a happy number',\n",
       " '904 is a happy number',\n",
       " '907 is a happy number',\n",
       " '910 is a happy number',\n",
       " '912 is a happy number',\n",
       " '913 is a happy number',\n",
       " '921 is a happy number',\n",
       " '923 is a happy number',\n",
       " '931 is a happy number',\n",
       " '932 is a happy number',\n",
       " '937 is a happy number',\n",
       " '940 is a happy number',\n",
       " '946 is a happy number',\n",
       " '964 is a happy number',\n",
       " '970 is a happy number',\n",
       " '973 is a happy number',\n",
       " '989 is a happy number',\n",
       " '998 is a happy number',\n",
       " '1000 is a happy number']"
      ]
     },
     "execution_count": 16,
     "metadata": {},
     "output_type": "execute_result"
    }
   ],
   "source": [
    "dis_happy"
   ]
  },
  {
   "cell_type": "markdown",
   "id": "b2d8d1b8",
   "metadata": {},
   "source": [
    "## 4. Write a Python program to print all happy numbers between 1 and 100?"
   ]
  },
  {
   "cell_type": "code",
   "execution_count": 17,
   "id": "8730194a",
   "metadata": {},
   "outputs": [],
   "source": [
    "# To print in a range of 1 to 100\n",
    "ran = list(range(1,101))"
   ]
  },
  {
   "cell_type": "code",
   "execution_count": 18,
   "id": "654310e8",
   "metadata": {},
   "outputs": [],
   "source": [
    "# mapping from the above defined function\n",
    "happy_num = list(map(ch_happy,ran))"
   ]
  },
  {
   "cell_type": "code",
   "execution_count": 19,
   "id": "854efe42",
   "metadata": {},
   "outputs": [],
   "source": [
    "# And filtering only happy numbers\n",
    "fil_hap_num =[]\n",
    "for i in range(len(happy_num)):\n",
    "    if happy_num[i] == '{} is a happy number'.format(ran[i]):\n",
    "        fil_hap_num.append(happy_num[i])\n",
    "  \n",
    "    "
   ]
  },
  {
   "cell_type": "code",
   "execution_count": 20,
   "id": "a5143cce",
   "metadata": {},
   "outputs": [
    {
     "data": {
      "text/plain": [
       "['1 is a happy number',\n",
       " '7 is a happy number',\n",
       " '10 is a happy number',\n",
       " '13 is a happy number',\n",
       " '19 is a happy number',\n",
       " '23 is a happy number',\n",
       " '28 is a happy number',\n",
       " '31 is a happy number',\n",
       " '32 is a happy number',\n",
       " '44 is a happy number',\n",
       " '49 is a happy number',\n",
       " '68 is a happy number',\n",
       " '70 is a happy number',\n",
       " '79 is a happy number',\n",
       " '82 is a happy number',\n",
       " '86 is a happy number',\n",
       " '91 is a happy number',\n",
       " '94 is a happy number',\n",
       " '97 is a happy number',\n",
       " '100 is a happy number']"
      ]
     },
     "execution_count": 20,
     "metadata": {},
     "output_type": "execute_result"
    }
   ],
   "source": [
    "fil_hap_num"
   ]
  },
  {
   "cell_type": "markdown",
   "id": "c0d0ff38",
   "metadata": {},
   "source": [
    "## 5. Write a Python program to determine whether the given number is a Harshad Number?"
   ]
  },
  {
   "cell_type": "code",
   "execution_count": 21,
   "id": "6961cd90",
   "metadata": {},
   "outputs": [],
   "source": [
    "def harshad(num):\n",
    "    su_m=0\n",
    "    st_num=str(num)\n",
    "    for i in range(len(st_num)):\n",
    "        su_m = su_m+int(st_num[i])\n",
    "    return 'It is a Harshad number' if num%su_m==0 else 'It is not a Harshad number'"
   ]
  },
  {
   "cell_type": "code",
   "execution_count": 22,
   "id": "7241c38a",
   "metadata": {},
   "outputs": [
    {
     "data": {
      "text/plain": [
       "'It is a Harshad number'"
      ]
     },
     "execution_count": 22,
     "metadata": {},
     "output_type": "execute_result"
    }
   ],
   "source": [
    "harshad(6804)"
   ]
  },
  {
   "cell_type": "code",
   "execution_count": 23,
   "id": "1b45f41e",
   "metadata": {},
   "outputs": [
    {
     "data": {
      "text/plain": [
       "'It is a Harshad number'"
      ]
     },
     "execution_count": 23,
     "metadata": {},
     "output_type": "execute_result"
    }
   ],
   "source": [
    "harshad(378)"
   ]
  },
  {
   "cell_type": "code",
   "execution_count": 24,
   "id": "315ef22d",
   "metadata": {},
   "outputs": [
    {
     "data": {
      "text/plain": [
       "'It is not a Harshad number'"
      ]
     },
     "execution_count": 24,
     "metadata": {},
     "output_type": "execute_result"
    }
   ],
   "source": [
    "harshad(14)"
   ]
  },
  {
   "cell_type": "markdown",
   "id": "6b9e6f92",
   "metadata": {},
   "source": [
    "## 6. Write a Python program to print all pronic numbers between 1 and 100?"
   ]
  },
  {
   "cell_type": "code",
   "execution_count": 25,
   "id": "a4d6bf79",
   "metadata": {},
   "outputs": [],
   "source": [
    "def pronic(a):\n",
    "    n = 0\n",
    "    i1 = 1\n",
    "    while n<=a:\n",
    "        n = ( i1*(i1+1))\n",
    "        if n<=a:\n",
    "            print('{}*{} = '.format(i1,i1+1),n) \n",
    "            i1 = i1+1\n",
    "        else:\n",
    "            break\n",
    "       \n",
    "        "
   ]
  },
  {
   "cell_type": "code",
   "execution_count": 26,
   "id": "f3f5865f",
   "metadata": {},
   "outputs": [
    {
     "name": "stdout",
     "output_type": "stream",
     "text": [
      "1*2 =  2\n",
      "2*3 =  6\n",
      "3*4 =  12\n",
      "4*5 =  20\n",
      "5*6 =  30\n",
      "6*7 =  42\n",
      "7*8 =  56\n",
      "8*9 =  72\n",
      "9*10 =  90\n"
     ]
    }
   ],
   "source": [
    "pronic(100)"
   ]
  },
  {
   "cell_type": "code",
   "execution_count": 27,
   "id": "6b85d724",
   "metadata": {},
   "outputs": [
    {
     "name": "stdout",
     "output_type": "stream",
     "text": [
      "1*2 =  2\n",
      "2*3 =  6\n",
      "3*4 =  12\n",
      "4*5 =  20\n",
      "5*6 =  30\n",
      "6*7 =  42\n",
      "7*8 =  56\n",
      "8*9 =  72\n",
      "9*10 =  90\n",
      "10*11 =  110\n",
      "11*12 =  132\n",
      "12*13 =  156\n",
      "13*14 =  182\n",
      "14*15 =  210\n",
      "15*16 =  240\n",
      "16*17 =  272\n",
      "17*18 =  306\n",
      "18*19 =  342\n",
      "19*20 =  380\n",
      "20*21 =  420\n",
      "21*22 =  462\n",
      "22*23 =  506\n",
      "23*24 =  552\n",
      "24*25 =  600\n",
      "25*26 =  650\n",
      "26*27 =  702\n",
      "27*28 =  756\n",
      "28*29 =  812\n",
      "29*30 =  870\n",
      "30*31 =  930\n",
      "31*32 =  992\n"
     ]
    }
   ],
   "source": [
    "pronic(1000)"
   ]
  }
 ],
 "metadata": {
  "kernelspec": {
   "display_name": "Python 3 (ipykernel)",
   "language": "python",
   "name": "python3"
  },
  "language_info": {
   "codemirror_mode": {
    "name": "ipython",
    "version": 3
   },
   "file_extension": ".py",
   "mimetype": "text/x-python",
   "name": "python",
   "nbconvert_exporter": "python",
   "pygments_lexer": "ipython3",
   "version": "3.9.7"
  }
 },
 "nbformat": 4,
 "nbformat_minor": 5
}
