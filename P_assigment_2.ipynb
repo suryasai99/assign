{
 "cells": [
  {
   "cell_type": "markdown",
   "id": "9f55c0b9",
   "metadata": {},
   "source": [
    "### 1. Write a Python program to convert kilometers to miles?"
   ]
  },
  {
   "cell_type": "code",
   "execution_count": 1,
   "id": "0b8e6c4f",
   "metadata": {},
   "outputs": [],
   "source": [
    "def conv(ki):\n",
    "    b = ki*0.621371\n",
    "    return '{} kilometers is aprroximately equal to {} miles'.format(ki,b)"
   ]
  },
  {
   "cell_type": "code",
   "execution_count": 2,
   "id": "b05ef302",
   "metadata": {},
   "outputs": [
    {
     "data": {
      "text/plain": [
       "'45 kilometers is aprroximately equal to 27.961695 miles'"
      ]
     },
     "execution_count": 2,
     "metadata": {},
     "output_type": "execute_result"
    }
   ],
   "source": [
    "conv(45)"
   ]
  },
  {
   "cell_type": "markdown",
   "id": "b8ad9c38",
   "metadata": {},
   "source": [
    "### 2. Write a Python program to convert Celsius to Fahrenheit?"
   ]
  },
  {
   "cell_type": "code",
   "execution_count": 3,
   "id": "151b8969",
   "metadata": {},
   "outputs": [],
   "source": [
    "def c_f(cel):\n",
    "    b = (cel*1.8)+32\n",
    "    return '{} celsius is equal to {} fahrenheit'.format(cel,b)"
   ]
  },
  {
   "cell_type": "code",
   "execution_count": 4,
   "id": "1c00e9c7",
   "metadata": {},
   "outputs": [
    {
     "data": {
      "text/plain": [
       "'37 celsius is equal to 98.60000000000001 fahrenheit'"
      ]
     },
     "execution_count": 4,
     "metadata": {},
     "output_type": "execute_result"
    }
   ],
   "source": [
    "c_f(37)"
   ]
  },
  {
   "cell_type": "markdown",
   "id": "4447c16c",
   "metadata": {},
   "source": [
    "### 3. Write a Python program to display calendar?"
   ]
  },
  {
   "cell_type": "code",
   "execution_count": 5,
   "id": "d760f9b0",
   "metadata": {},
   "outputs": [],
   "source": [
    "import calendar\n",
    "def cal(year,month):\n",
    "    print(calendar.month(year,month))"
   ]
  },
  {
   "cell_type": "code",
   "execution_count": 6,
   "id": "d6fc227b",
   "metadata": {},
   "outputs": [
    {
     "name": "stdout",
     "output_type": "stream",
     "text": [
      "     March 1994\n",
      "Mo Tu We Th Fr Sa Su\n",
      "    1  2  3  4  5  6\n",
      " 7  8  9 10 11 12 13\n",
      "14 15 16 17 18 19 20\n",
      "21 22 23 24 25 26 27\n",
      "28 29 30 31\n",
      "\n"
     ]
    }
   ],
   "source": [
    "cal(1994,3)"
   ]
  },
  {
   "cell_type": "markdown",
   "id": "600f41c3",
   "metadata": {},
   "source": [
    "### 4. Write a Python program to solve quadratic equation?"
   ]
  },
  {
   "cell_type": "code",
   "execution_count": 7,
   "id": "eb12aa7a",
   "metadata": {},
   "outputs": [],
   "source": [
    "def quad(a,b,c):  # where a,b are coefficients of x2,x and c is constant\n",
    "    root1 = (-b + ((b**2)-(4*a*c))**0.5)/(2*a)\n",
    "    root2 = (-b - (b**2-(4*a*c))**0.5)/(2*a)\n",
    "    return 'The roots are {} and {}'.format(root1,root2)"
   ]
  },
  {
   "cell_type": "code",
   "execution_count": 8,
   "id": "d2df5d9c",
   "metadata": {},
   "outputs": [
    {
     "data": {
      "text/plain": [
       "'The roots are -2.0 and -3.0'"
      ]
     },
     "execution_count": 8,
     "metadata": {},
     "output_type": "execute_result"
    }
   ],
   "source": [
    "quad(1,5,6)"
   ]
  },
  {
   "cell_type": "code",
   "execution_count": 9,
   "id": "e8455443",
   "metadata": {},
   "outputs": [
    {
     "data": {
      "text/plain": [
       "'The roots are -0.2 and -1.0'"
      ]
     },
     "execution_count": 9,
     "metadata": {},
     "output_type": "execute_result"
    }
   ],
   "source": [
    "quad(5,6,1)"
   ]
  },
  {
   "cell_type": "markdown",
   "id": "8a5ef8c5",
   "metadata": {},
   "source": [
    "### 5. Write a Python program to swap two variables without temp variable?"
   ]
  },
  {
   "cell_type": "code",
   "execution_count": 10,
   "id": "adcbfbf6",
   "metadata": {},
   "outputs": [],
   "source": [
    "a = 30\n",
    "b = 478"
   ]
  },
  {
   "cell_type": "code",
   "execution_count": 11,
   "id": "e7c19360",
   "metadata": {},
   "outputs": [],
   "source": [
    "a,b=b,a"
   ]
  },
  {
   "cell_type": "code",
   "execution_count": 12,
   "id": "7552769e",
   "metadata": {},
   "outputs": [
    {
     "data": {
      "text/plain": [
       "478"
      ]
     },
     "execution_count": 12,
     "metadata": {},
     "output_type": "execute_result"
    }
   ],
   "source": [
    "a"
   ]
  },
  {
   "cell_type": "code",
   "execution_count": 13,
   "id": "97984e82",
   "metadata": {},
   "outputs": [
    {
     "data": {
      "text/plain": [
       "30"
      ]
     },
     "execution_count": 13,
     "metadata": {},
     "output_type": "execute_result"
    }
   ],
   "source": [
    "b"
   ]
  },
  {
   "cell_type": "code",
   "execution_count": null,
   "id": "ba99acf3",
   "metadata": {},
   "outputs": [],
   "source": []
  }
 ],
 "metadata": {
  "kernelspec": {
   "display_name": "Python 3 (ipykernel)",
   "language": "python",
   "name": "python3"
  },
  "language_info": {
   "codemirror_mode": {
    "name": "ipython",
    "version": 3
   },
   "file_extension": ".py",
   "mimetype": "text/x-python",
   "name": "python",
   "nbconvert_exporter": "python",
   "pygments_lexer": "ipython3",
   "version": "3.7.13"
  }
 },
 "nbformat": 4,
 "nbformat_minor": 5
}
