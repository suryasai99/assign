{
 "cells": [
  {
   "cell_type": "markdown",
   "id": "bda2a810",
   "metadata": {},
   "source": [
    "## 1. In the below elements which of them are values or an expression? eg:- values can be integer or string and expressions will be mathematical operators.\n",
    "\n",
    " *\n",
    " \"hello\"\n",
    " -87.8\n",
    " -\n",
    " /\n",
    " +\n",
    " 6"
   ]
  },
  {
   "cell_type": "markdown",
   "id": "9ce1979c",
   "metadata": {},
   "source": [
    "* values are \"hello\",-87.8,6\n",
    "* expressions are *,-,/,+"
   ]
  },
  {
   "cell_type": "markdown",
   "id": "7bd9a2a8",
   "metadata": {},
   "source": [
    "## 2. What is the difference between string and variable?"
   ]
  },
  {
   "cell_type": "markdown",
   "id": "bdd002ae",
   "metadata": {},
   "source": [
    "* string : anything which is enclosed within quotes is a string\n",
    "* variable: It is a characteristic that stores a value"
   ]
  },
  {
   "cell_type": "markdown",
   "id": "4d4d0e04",
   "metadata": {},
   "source": [
    "## 3. Describe three different data types."
   ]
  },
  {
   "cell_type": "markdown",
   "id": "f4fcddd2",
   "metadata": {},
   "source": [
    "* integer\n",
    "* string\n",
    "* float"
   ]
  },
  {
   "cell_type": "markdown",
   "id": "d395db97",
   "metadata": {},
   "source": [
    "## 4. What is an expression made up of? What do all expressions do?"
   ]
  },
  {
   "cell_type": "markdown",
   "id": "e87712f6",
   "metadata": {},
   "source": [
    "An expression is a combination of operators and operands that is interpreted to produce some other value"
   ]
  },
  {
   "cell_type": "markdown",
   "id": "ebbd0dda",
   "metadata": {},
   "source": [
    "## 5. This assignment statements, like spam = 10. What is the difference between an expression and a statement?\n"
   ]
  },
  {
   "cell_type": "markdown",
   "id": "e8482db2",
   "metadata": {},
   "source": [
    "An “expression” is a combination of values and functions that are combined and interpreted by the compiler to create a new value, whereas “statement” which is just a standalone unit of execution and doesn't return anything."
   ]
  },
  {
   "cell_type": "markdown",
   "id": "aa3cc9a2",
   "metadata": {},
   "source": [
    "## 6. After running the following code, what does the variable bacon contain?\n",
    "bacon = 22\n",
    "bacon + 1"
   ]
  },
  {
   "cell_type": "markdown",
   "id": "09c2f382",
   "metadata": {},
   "source": [
    "23"
   ]
  },
  {
   "cell_type": "markdown",
   "id": "fc272536",
   "metadata": {},
   "source": [
    "## 7. What should the values of the following two terms be?\n",
    "\"spam\"+\"spamspam\"\n",
    "\"spam\" * 3"
   ]
  },
  {
   "cell_type": "markdown",
   "id": "66bf15a7",
   "metadata": {},
   "source": [
    "* 'spamspamspam'\n",
    "* 'spamspamspam'"
   ]
  },
  {
   "cell_type": "markdown",
   "id": "9def98f6",
   "metadata": {},
   "source": [
    "## 8. Why is eggs a valid variable name while 100 is invalid?"
   ]
  },
  {
   "cell_type": "markdown",
   "id": "2bad6944",
   "metadata": {},
   "source": [
    "Because variable names do not start with a integer"
   ]
  },
  {
   "cell_type": "markdown",
   "id": "a364cd07",
   "metadata": {},
   "source": [
    "## 9. what three functions can be used to get the integer,floating-point number, or string version of a value"
   ]
  },
  {
   "cell_type": "markdown",
   "id": "076ad75c",
   "metadata": {},
   "source": [
    "we can use int(),float(),str() "
   ]
  },
  {
   "cell_type": "markdown",
   "id": "d43b673b",
   "metadata": {},
   "source": [
    "## 10. why does this expression cause an error? how can you fix it?\n",
    "\n",
    "'I have eaten' + 99 + 'burritos.'"
   ]
  },
  {
   "cell_type": "markdown",
   "id": "12e4117e",
   "metadata": {},
   "source": [
    "It causes an error because we cannot sum a string and integer. inorder to fix we need enclose 99 in quotes"
   ]
  },
  {
   "cell_type": "code",
   "execution_count": 6,
   "id": "881bb25d",
   "metadata": {},
   "outputs": [
    {
     "data": {
      "text/plain": [
       "'I have eaten 99 burritos.'"
      ]
     },
     "execution_count": 6,
     "metadata": {},
     "output_type": "execute_result"
    }
   ],
   "source": [
    "'I have eaten' + ' 99 ' + 'burritos.'"
   ]
  },
  {
   "cell_type": "code",
   "execution_count": null,
   "id": "3d62ef26",
   "metadata": {},
   "outputs": [],
   "source": []
  }
 ],
 "metadata": {
  "kernelspec": {
   "display_name": "Python 3 (ipykernel)",
   "language": "python",
   "name": "python3"
  },
  "language_info": {
   "codemirror_mode": {
    "name": "ipython",
    "version": 3
   },
   "file_extension": ".py",
   "mimetype": "text/x-python",
   "name": "python",
   "nbconvert_exporter": "python",
   "pygments_lexer": "ipython3",
   "version": "3.7.13"
  }
 },
 "nbformat": 4,
 "nbformat_minor": 5
}
