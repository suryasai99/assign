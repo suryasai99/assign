{
 "cells": [
  {
   "cell_type": "markdown",
   "id": "b88a7311",
   "metadata": {},
   "source": [
    "### 1. Write a Python program to find sum of elements in list?"
   ]
  },
  {
   "cell_type": "code",
   "execution_count": 1,
   "id": "32919727",
   "metadata": {},
   "outputs": [],
   "source": [
    "def su(a):\n",
    "    b = 0\n",
    "    for i in a:\n",
    "        b = b+i\n",
    "    return b"
   ]
  },
  {
   "cell_type": "code",
   "execution_count": 2,
   "id": "0bbdc74d",
   "metadata": {},
   "outputs": [],
   "source": [
    "c = [4,5,7,8,9]"
   ]
  },
  {
   "cell_type": "code",
   "execution_count": 3,
   "id": "fc849168",
   "metadata": {},
   "outputs": [
    {
     "data": {
      "text/plain": [
       "33"
      ]
     },
     "execution_count": 3,
     "metadata": {},
     "output_type": "execute_result"
    }
   ],
   "source": [
    "su(c)"
   ]
  },
  {
   "cell_type": "markdown",
   "id": "5be33834",
   "metadata": {},
   "source": [
    "### 2. Write a Python program to Multiply all numbers in the list?"
   ]
  },
  {
   "cell_type": "code",
   "execution_count": 4,
   "id": "ac04e003",
   "metadata": {},
   "outputs": [],
   "source": [
    "def mult(a):\n",
    "    b = 1\n",
    "    for i in a:\n",
    "        b=b*i\n",
    "    return b"
   ]
  },
  {
   "cell_type": "code",
   "execution_count": 5,
   "id": "9ce2b907",
   "metadata": {},
   "outputs": [
    {
     "data": {
      "text/plain": [
       "11200"
      ]
     },
     "execution_count": 5,
     "metadata": {},
     "output_type": "execute_result"
    }
   ],
   "source": [
    "mult([4,5,7,8,10])"
   ]
  },
  {
   "cell_type": "markdown",
   "id": "a7e15eb7",
   "metadata": {},
   "source": [
    "### 3. Write a Python program to find smallest number in a list?"
   ]
  },
  {
   "cell_type": "code",
   "execution_count": 6,
   "id": "80205079",
   "metadata": {},
   "outputs": [],
   "source": [
    "def small(a):\n",
    "    b = min(a)\n",
    "    return b\n",
    "    "
   ]
  },
  {
   "cell_type": "code",
   "execution_count": 7,
   "id": "515ccef5",
   "metadata": {},
   "outputs": [
    {
     "data": {
      "text/plain": [
       "1"
      ]
     },
     "execution_count": 7,
     "metadata": {},
     "output_type": "execute_result"
    }
   ],
   "source": [
    "small([2,3,4,5,1,3,6,7])"
   ]
  },
  {
   "cell_type": "markdown",
   "id": "48775b90",
   "metadata": {},
   "source": [
    "### 4. Write a Python program to find largest number in a list?"
   ]
  },
  {
   "cell_type": "code",
   "execution_count": 8,
   "id": "678a2ec5",
   "metadata": {},
   "outputs": [],
   "source": [
    "def lar(a):\n",
    "    b = max(a)\n",
    "    return b"
   ]
  },
  {
   "cell_type": "code",
   "execution_count": 9,
   "id": "bb61dda3",
   "metadata": {},
   "outputs": [
    {
     "data": {
      "text/plain": [
       "7"
      ]
     },
     "execution_count": 9,
     "metadata": {},
     "output_type": "execute_result"
    }
   ],
   "source": [
    "lar([2,3,4,5,1,3,6,7])"
   ]
  },
  {
   "cell_type": "markdown",
   "id": "172d785b",
   "metadata": {},
   "source": [
    "### 5. Write a Python program to find second largest number in a list?"
   ]
  },
  {
   "cell_type": "code",
   "execution_count": 10,
   "id": "884f116d",
   "metadata": {},
   "outputs": [],
   "source": [
    "def sec_lar(a):\n",
    "    b = sorted(a)\n",
    "    return b[-2]"
   ]
  },
  {
   "cell_type": "code",
   "execution_count": 11,
   "id": "6ec7d661",
   "metadata": {},
   "outputs": [
    {
     "data": {
      "text/plain": [
       "6"
      ]
     },
     "execution_count": 11,
     "metadata": {},
     "output_type": "execute_result"
    }
   ],
   "source": [
    "sec_lar([2,3,4,5,1,3,6,7])"
   ]
  },
  {
   "cell_type": "markdown",
   "id": "e624bf7e",
   "metadata": {},
   "source": [
    "### 6. Write a Python program to find N largest elements from a list?"
   ]
  },
  {
   "cell_type": "code",
   "execution_count": 12,
   "id": "4a82625e",
   "metadata": {},
   "outputs": [],
   "source": [
    "def N_larg(a,N):\n",
    "    if N<len(a):\n",
    "        b = sorted(a)\n",
    "        return b[(len(a)-N):]\n",
    "    else:\n",
    "        return 'N is greater than the length of the list'"
   ]
  },
  {
   "cell_type": "code",
   "execution_count": 13,
   "id": "20cc2353",
   "metadata": {},
   "outputs": [],
   "source": [
    "a = [2,3,4,5,1,3,6,7,56,78,98,90,23]"
   ]
  },
  {
   "cell_type": "code",
   "execution_count": 14,
   "id": "6734ed15",
   "metadata": {},
   "outputs": [
    {
     "data": {
      "text/plain": [
       "[90, 98]"
      ]
     },
     "execution_count": 14,
     "metadata": {},
     "output_type": "execute_result"
    }
   ],
   "source": [
    "N_larg(a,2)"
   ]
  },
  {
   "cell_type": "code",
   "execution_count": 15,
   "id": "ba793629",
   "metadata": {},
   "outputs": [
    {
     "data": {
      "text/plain": [
       "[23, 56, 78, 90, 98]"
      ]
     },
     "execution_count": 15,
     "metadata": {},
     "output_type": "execute_result"
    }
   ],
   "source": [
    "N_larg(a,5)"
   ]
  },
  {
   "cell_type": "code",
   "execution_count": 16,
   "id": "4652812a",
   "metadata": {},
   "outputs": [
    {
     "data": {
      "text/plain": [
       "'N is greater than the length of the list'"
      ]
     },
     "execution_count": 16,
     "metadata": {},
     "output_type": "execute_result"
    }
   ],
   "source": [
    "N_larg(a,20)"
   ]
  },
  {
   "cell_type": "markdown",
   "id": "552d205e",
   "metadata": {},
   "source": [
    "### 7. Write a Python program to print even numbers in a list?"
   ]
  },
  {
   "cell_type": "code",
   "execution_count": 17,
   "id": "2bc209b5",
   "metadata": {},
   "outputs": [],
   "source": [
    "def even(a):\n",
    "    b = [i for i in a if i%2==0]\n",
    "    return b"
   ]
  },
  {
   "cell_type": "code",
   "execution_count": 18,
   "id": "23c0c979",
   "metadata": {},
   "outputs": [
    {
     "data": {
      "text/plain": [
       "[4, 6, 8]"
      ]
     },
     "execution_count": 18,
     "metadata": {},
     "output_type": "execute_result"
    }
   ],
   "source": [
    "even([4,5,6,7,8])"
   ]
  },
  {
   "cell_type": "markdown",
   "id": "2a997dcc",
   "metadata": {},
   "source": [
    "### 8. Write a Python program to print odd numbers in a List?"
   ]
  },
  {
   "cell_type": "code",
   "execution_count": 19,
   "id": "0f07d424",
   "metadata": {},
   "outputs": [],
   "source": [
    "def odd(a):\n",
    "    b = [i for i in a if i%2!=0]\n",
    "    return b"
   ]
  },
  {
   "cell_type": "code",
   "execution_count": 20,
   "id": "957e6b16",
   "metadata": {},
   "outputs": [
    {
     "data": {
      "text/plain": [
       "[5, 7]"
      ]
     },
     "execution_count": 20,
     "metadata": {},
     "output_type": "execute_result"
    }
   ],
   "source": [
    "odd([4,5,6,7,8])"
   ]
  },
  {
   "cell_type": "markdown",
   "id": "f9f7b287",
   "metadata": {},
   "source": [
    "### 9. Write a Python program to Remove empty List from List?"
   ]
  },
  {
   "cell_type": "code",
   "execution_count": 21,
   "id": "d6e99152",
   "metadata": {},
   "outputs": [],
   "source": [
    "def rem_empt(a):\n",
    "    b = [ i for i in a if len(i)!=0]\n",
    "    return b"
   ]
  },
  {
   "cell_type": "code",
   "execution_count": 22,
   "id": "db7ec058",
   "metadata": {},
   "outputs": [],
   "source": [
    "a =[[2,3,4],[],[],[2,3,45]]"
   ]
  },
  {
   "cell_type": "code",
   "execution_count": 23,
   "id": "2acc2a41",
   "metadata": {},
   "outputs": [
    {
     "data": {
      "text/plain": [
       "[[2, 3, 4], [2, 3, 45]]"
      ]
     },
     "execution_count": 23,
     "metadata": {},
     "output_type": "execute_result"
    }
   ],
   "source": [
    "rem_empt(a)"
   ]
  },
  {
   "cell_type": "markdown",
   "id": "64dea02f",
   "metadata": {},
   "source": [
    "### 10. Write a Python program to Cloning or Copying a list?"
   ]
  },
  {
   "cell_type": "code",
   "execution_count": 24,
   "id": "7884ebf6",
   "metadata": {},
   "outputs": [],
   "source": [
    "def clone(a):\n",
    "    b = a[:]\n",
    "    return b"
   ]
  },
  {
   "cell_type": "code",
   "execution_count": 25,
   "id": "abae4b39",
   "metadata": {},
   "outputs": [
    {
     "data": {
      "text/plain": [
       "[3, 4, 5, 6, 7, 3, 4, 5]"
      ]
     },
     "execution_count": 25,
     "metadata": {},
     "output_type": "execute_result"
    }
   ],
   "source": [
    "clone([3,4,5,6,7,3,4,5])"
   ]
  },
  {
   "cell_type": "markdown",
   "id": "aba50012",
   "metadata": {},
   "source": [
    "### 11. Write a Python program to Count occurrences of an element in a list?"
   ]
  },
  {
   "cell_type": "code",
   "execution_count": 26,
   "id": "bfa45e20",
   "metadata": {},
   "outputs": [],
   "source": [
    "def occu(a):\n",
    "    b = {}\n",
    "    for i in a:\n",
    "        if i in b:\n",
    "            pass\n",
    "        else:\n",
    "            b[i]='{} time'.format(a.count(i))\n",
    "    return b"
   ]
  },
  {
   "cell_type": "code",
   "execution_count": 27,
   "id": "903b341b",
   "metadata": {},
   "outputs": [],
   "source": [
    "a = [3,4,5,6,7,3,4,5]"
   ]
  },
  {
   "cell_type": "code",
   "execution_count": 28,
   "id": "aeb34f6e",
   "metadata": {},
   "outputs": [
    {
     "data": {
      "text/plain": [
       "{3: '2 time', 4: '2 time', 5: '2 time', 6: '1 time', 7: '1 time'}"
      ]
     },
     "execution_count": 28,
     "metadata": {},
     "output_type": "execute_result"
    }
   ],
   "source": [
    "occu(a)"
   ]
  },
  {
   "cell_type": "code",
   "execution_count": null,
   "id": "c654658f",
   "metadata": {},
   "outputs": [],
   "source": []
  }
 ],
 "metadata": {
  "kernelspec": {
   "display_name": "Python 3 (ipykernel)",
   "language": "python",
   "name": "python3"
  },
  "language_info": {
   "codemirror_mode": {
    "name": "ipython",
    "version": 3
   },
   "file_extension": ".py",
   "mimetype": "text/x-python",
   "name": "python",
   "nbconvert_exporter": "python",
   "pygments_lexer": "ipython3",
   "version": "3.7.13"
  }
 },
 "nbformat": 4,
 "nbformat_minor": 5
}
