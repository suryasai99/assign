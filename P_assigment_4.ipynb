{
 "cells": [
  {
   "cell_type": "markdown",
   "id": "e9f9a19e",
   "metadata": {},
   "source": [
    "### 1. Write a Python Program to Find the Factorial of a Number?"
   ]
  },
  {
   "cell_type": "code",
   "execution_count": 1,
   "id": "20adcbe5",
   "metadata": {},
   "outputs": [],
   "source": [
    "def fac(n):\n",
    "    result = 1\n",
    "    for i in range(n,1,-1):\n",
    "        result = result*i\n",
    "    return result"
   ]
  },
  {
   "cell_type": "code",
   "execution_count": 2,
   "id": "a41ed7f9",
   "metadata": {},
   "outputs": [
    {
     "data": {
      "text/plain": [
       "120"
      ]
     },
     "execution_count": 2,
     "metadata": {},
     "output_type": "execute_result"
    }
   ],
   "source": [
    "fac(5)"
   ]
  },
  {
   "cell_type": "code",
   "execution_count": 3,
   "id": "4e14a1a7",
   "metadata": {},
   "outputs": [
    {
     "data": {
      "text/plain": [
       "3628800"
      ]
     },
     "execution_count": 3,
     "metadata": {},
     "output_type": "execute_result"
    }
   ],
   "source": [
    "fac(10)"
   ]
  },
  {
   "cell_type": "markdown",
   "id": "5a3c7997",
   "metadata": {},
   "source": [
    "### 2. Write a Python Program to Display the multiplication Table?"
   ]
  },
  {
   "cell_type": "code",
   "execution_count": 4,
   "id": "7c8f7c25",
   "metadata": {},
   "outputs": [],
   "source": [
    "def tab(num):    \n",
    "    for i in range(1,11):\n",
    "        print('{}*{}={}'.format(num,i,num*i))\n",
    "    "
   ]
  },
  {
   "cell_type": "code",
   "execution_count": 5,
   "id": "babba712",
   "metadata": {},
   "outputs": [
    {
     "name": "stdout",
     "output_type": "stream",
     "text": [
      "5*1=5\n",
      "5*2=10\n",
      "5*3=15\n",
      "5*4=20\n",
      "5*5=25\n",
      "5*6=30\n",
      "5*7=35\n",
      "5*8=40\n",
      "5*9=45\n",
      "5*10=50\n"
     ]
    }
   ],
   "source": [
    "tab(5)"
   ]
  },
  {
   "cell_type": "markdown",
   "id": "912649c5",
   "metadata": {},
   "source": [
    "### 3. Write a Python Program to Print the Fibonacci sequence?"
   ]
  },
  {
   "cell_type": "code",
   "execution_count": 6,
   "id": "8dc6f852",
   "metadata": {},
   "outputs": [],
   "source": [
    "def feb(n): # below n we get fibonacci sequence\n",
    "    a =0\n",
    "    b = 1\n",
    "    while a<n:\n",
    "        print(a)\n",
    "        a,b =b,a+b\n",
    "        "
   ]
  },
  {
   "cell_type": "code",
   "execution_count": 7,
   "id": "e2d29268",
   "metadata": {},
   "outputs": [
    {
     "name": "stdout",
     "output_type": "stream",
     "text": [
      "0\n",
      "1\n",
      "1\n",
      "2\n",
      "3\n",
      "5\n"
     ]
    }
   ],
   "source": [
    "feb(6)"
   ]
  },
  {
   "cell_type": "code",
   "execution_count": 8,
   "id": "b1b3d552",
   "metadata": {},
   "outputs": [
    {
     "name": "stdout",
     "output_type": "stream",
     "text": [
      "0\n",
      "1\n",
      "1\n",
      "2\n",
      "3\n",
      "5\n",
      "8\n",
      "13\n",
      "21\n",
      "34\n",
      "55\n",
      "89\n"
     ]
    }
   ],
   "source": [
    "feb(100)"
   ]
  },
  {
   "cell_type": "markdown",
   "id": "0214af8a",
   "metadata": {},
   "source": [
    "### 4. Write a Python Program to Check Armstrong Number?"
   ]
  },
  {
   "cell_type": "code",
   "execution_count": 9,
   "id": "041bd908",
   "metadata": {},
   "outputs": [],
   "source": [
    "def arm(num):\n",
    "    st = str(num)\n",
    "    su = 0\n",
    "    for i in st:\n",
    "        su = su+int(i)**len(st)\n",
    "    return 'It is an Armstrong Number' if su== num else 'It is not an Armstrong Number'                                                 "
   ]
  },
  {
   "cell_type": "code",
   "execution_count": 10,
   "id": "584f67d7",
   "metadata": {},
   "outputs": [
    {
     "data": {
      "text/plain": [
       "'It is an Armstrong Number'"
      ]
     },
     "execution_count": 10,
     "metadata": {},
     "output_type": "execute_result"
    }
   ],
   "source": [
    "arm(153)"
   ]
  },
  {
   "cell_type": "code",
   "execution_count": 11,
   "id": "07866cf8",
   "metadata": {},
   "outputs": [
    {
     "data": {
      "text/plain": [
       "'It is an Armstrong Number'"
      ]
     },
     "execution_count": 11,
     "metadata": {},
     "output_type": "execute_result"
    }
   ],
   "source": [
    "arm(1634)"
   ]
  },
  {
   "cell_type": "code",
   "execution_count": 12,
   "id": "f4102323",
   "metadata": {},
   "outputs": [
    {
     "data": {
      "text/plain": [
       "'It is not an Armstrong Number'"
      ]
     },
     "execution_count": 12,
     "metadata": {},
     "output_type": "execute_result"
    }
   ],
   "source": [
    "arm(400)"
   ]
  },
  {
   "cell_type": "markdown",
   "id": "0c7c69d7",
   "metadata": {},
   "source": [
    "### 5. Write a Python Program to Find Armstrong Number in an Interval?"
   ]
  },
  {
   "cell_type": "code",
   "execution_count": 13,
   "id": "c3b5d8ac",
   "metadata": {},
   "outputs": [],
   "source": [
    "# range of numbers 'fro_m' to 'to' \n",
    "def arm_int(fro_m,to):\n",
    "    arm = []\n",
    "    \n",
    "    for i in range(fro_m,to+1):\n",
    "        st = str(i)\n",
    "        su = 0\n",
    "        for j in st:\n",
    "            su  = su+int(j)**len(st) \n",
    "        if su == i:\n",
    "            arm.append(su)\n",
    "    if len(arm)==0:\n",
    "        # returns this result if there is no armstrong number in the given range\n",
    "        return 'No armstrong numbers in given range'  \n",
    " \n",
    "    return arm\n",
    "            \n",
    "            \n",
    "            \n",
    "        "
   ]
  },
  {
   "cell_type": "code",
   "execution_count": 14,
   "id": "66d469ae",
   "metadata": {},
   "outputs": [
    {
     "data": {
      "text/plain": [
       "[153, 370, 371, 407, 1634]"
      ]
     },
     "execution_count": 14,
     "metadata": {},
     "output_type": "execute_result"
    }
   ],
   "source": [
    "arm_int(10,2000)"
   ]
  },
  {
   "cell_type": "code",
   "execution_count": 15,
   "id": "fb5a24db",
   "metadata": {},
   "outputs": [
    {
     "data": {
      "text/plain": [
       "'No armstrong numbers in given range'"
      ]
     },
     "execution_count": 15,
     "metadata": {},
     "output_type": "execute_result"
    }
   ],
   "source": [
    "arm_int(10,100)"
   ]
  },
  {
   "cell_type": "markdown",
   "id": "742722a7",
   "metadata": {},
   "source": [
    "### 6. Write a Python Program to Find the Sum of Natural Numbers?"
   ]
  },
  {
   "cell_type": "code",
   "execution_count": 16,
   "id": "e792249e",
   "metadata": {},
   "outputs": [],
   "source": [
    "# sum of n natural numbers until num from 1\n",
    "def natural_sum(num):\n",
    "    a = (num*(num+1))/2\n",
    "    return a"
   ]
  },
  {
   "cell_type": "code",
   "execution_count": 17,
   "id": "26536c2c",
   "metadata": {},
   "outputs": [
    {
     "data": {
      "text/plain": [
       "5050.0"
      ]
     },
     "execution_count": 17,
     "metadata": {},
     "output_type": "execute_result"
    }
   ],
   "source": [
    "natural_sum(100)"
   ]
  }
 ],
 "metadata": {
  "kernelspec": {
   "display_name": "Python 3 (ipykernel)",
   "language": "python",
   "name": "python3"
  },
  "language_info": {
   "codemirror_mode": {
    "name": "ipython",
    "version": 3
   },
   "file_extension": ".py",
   "mimetype": "text/x-python",
   "name": "python",
   "nbconvert_exporter": "python",
   "pygments_lexer": "ipython3",
   "version": "3.9.7"
  }
 },
 "nbformat": 4,
 "nbformat_minor": 5
}
